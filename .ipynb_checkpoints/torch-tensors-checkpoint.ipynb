{
 "cells": [
  {
   "cell_type": "code",
   "execution_count": 1,
   "metadata": {},
   "outputs": [],
   "source": [
    "from __future__ import print_function\n",
    "import torch"
   ]
  },
  {
   "cell_type": "code",
   "execution_count": 2,
   "metadata": {},
   "outputs": [
    {
     "name": "stdout",
     "output_type": "stream",
     "text": [
      "tensor([[0.0000e+00, 0.0000e+00, 0.0000e+00],\n",
      "        [0.0000e+00, 0.0000e+00, 5.9694e-39],\n",
      "        [7.0295e+28, 6.1949e-04, 2.9540e+21],\n",
      "        [7.7146e+31, 7.2085e+31, 1.7418e+28],\n",
      "        [2.9388e+29, 5.0856e+31, 4.2964e+24]])\n"
     ]
    }
   ],
   "source": [
    "# constructs an empty torch array\n",
    "x = torch.empty(5,3)\n",
    "print(x)"
   ]
  },
  {
   "cell_type": "code",
   "execution_count": 3,
   "metadata": {},
   "outputs": [
    {
     "name": "stdout",
     "output_type": "stream",
     "text": [
      "tensor([[0.2889, 0.7448, 0.7310],\n",
      "        [0.9983, 0.9224, 0.2700],\n",
      "        [0.7420, 0.2973, 0.8568],\n",
      "        [0.6549, 0.5636, 0.3706],\n",
      "        [0.3600, 0.3998, 0.3566]])\n"
     ]
    }
   ],
   "source": [
    "# constructs a randomly initialized torch array\n",
    "x = torch.rand(5,3) # optional arg: dtype=torch.data_type\n",
    "print(x)"
   ]
  },
  {
   "cell_type": "code",
   "execution_count": 4,
   "metadata": {},
   "outputs": [
    {
     "name": "stdout",
     "output_type": "stream",
     "text": [
      "tensor([[0.2889, 0.7448, 0.7310],\n",
      "        [0.9983, 0.9224, 0.2700],\n",
      "        [0.7420, 0.2973, 0.8568],\n",
      "        [0.6549, 0.5636, 0.3706],\n",
      "        [0.3600, 0.3998, 0.3566]])\n"
     ]
    }
   ],
   "source": [
    "# constructs an array of zeros\n",
    "z = torch.zeros(5,3)\n",
    "print(x)"
   ]
  },
  {
   "cell_type": "code",
   "execution_count": 5,
   "metadata": {},
   "outputs": [
    {
     "name": "stdout",
     "output_type": "stream",
     "text": [
      "tensor([[1.2889, 1.7448, 1.7310],\n",
      "        [1.9983, 1.9224, 1.2700],\n",
      "        [1.7420, 1.2973, 1.8568],\n",
      "        [1.6549, 1.5636, 1.3706],\n",
      "        [1.3600, 1.3998, 1.3566]], device='cuda:0')\n",
      "tensor([[1.2889, 1.7448, 1.7310],\n",
      "        [1.9983, 1.9224, 1.2700],\n",
      "        [1.7420, 1.2973, 1.8568],\n",
      "        [1.6549, 1.5636, 1.3706],\n",
      "        [1.3600, 1.3998, 1.3566]], dtype=torch.float64)\n"
     ]
    }
   ],
   "source": [
    "if torch.cuda.is_available():\n",
    "    device = torch.device('cuda') # use device to move tensors in and out of the gpu\n",
    "    y = torch.ones_like(x, device=device) # create a tensor on gpu\n",
    "    x = x.to(device) # similar function\n",
    "    z = x + y\n",
    "    print(z)\n",
    "    print(z.to('cpu', torch.double))"
   ]
  },
  {
   "cell_type": "code",
   "execution_count": 6,
   "metadata": {},
   "outputs": [
    {
     "name": "stdout",
     "output_type": "stream",
     "text": [
      "tensor([[1., 1.],\n",
      "        [1., 1.]], requires_grad=True)\n"
     ]
    }
   ],
   "source": [
    "x = torch.ones(2, 2, requires_grad=True) # requires_grad means that this tensor's computations will be tracked\n",
    "print(x)"
   ]
  },
  {
   "cell_type": "code",
   "execution_count": 8,
   "metadata": {},
   "outputs": [
    {
     "name": "stdout",
     "output_type": "stream",
     "text": [
      "tensor([[3., 3.],\n",
      "        [3., 3.]], grad_fn=<AddBackward0>)\n"
     ]
    }
   ],
   "source": [
    "y = x + 2 # do a tensor operation\n",
    "print(y)"
   ]
  },
  {
   "cell_type": "code",
   "execution_count": 9,
   "metadata": {},
   "outputs": [
    {
     "name": "stdout",
     "output_type": "stream",
     "text": [
      "<AddBackward0 object at 0x000002779BFAC388>\n"
     ]
    }
   ],
   "source": [
    "print(y.grad_fn) # y has a grad_fn object, which tracks the computations performed on it"
   ]
  },
  {
   "cell_type": "code",
   "execution_count": 10,
   "metadata": {},
   "outputs": [
    {
     "name": "stdout",
     "output_type": "stream",
     "text": [
      "tensor([[27., 27.],\n",
      "        [27., 27.]], grad_fn=<MulBackward0>) tensor(27., grad_fn=<MeanBackward0>)\n"
     ]
    }
   ],
   "source": [
    "z = y * y * 3\n",
    "out = z.mean()\n",
    "print(z, out) # more operations"
   ]
  },
  {
   "cell_type": "code",
   "execution_count": 14,
   "metadata": {},
   "outputs": [
    {
     "name": "stdout",
     "output_type": "stream",
     "text": [
      "z <MulBackward0 object at 0x000002779BFB4108>\n",
      "y <AddBackward0 object at 0x000002779BFB40C8>\n",
      "x None\n"
     ]
    }
   ],
   "source": [
    "print('z', z.grad_fn)\n",
    "print('y', y.grad_fn)\n",
    "print('x', x.grad_fn)"
   ]
  },
  {
   "cell_type": "code",
   "execution_count": 15,
   "metadata": {},
   "outputs": [
    {
     "name": "stdout",
     "output_type": "stream",
     "text": [
      "False\n",
      "True\n",
      "<SumBackward0 object at 0x000002779BFAC648>\n"
     ]
    }
   ],
   "source": [
    "a = torch.randn(2, 2)\n",
    "a = ((a * 3) / (a - 1))\n",
    "print(a.requires_grad) # requires_grad can be modified\n",
    "a.requires_grad_(True) # defaults to False\n",
    "print(a.requires_grad)\n",
    "b = (a * a).sum()\n",
    "print(b.grad_fn) "
   ]
  },
  {
   "cell_type": "code",
   "execution_count": 16,
   "metadata": {},
   "outputs": [
    {
     "name": "stdout",
     "output_type": "stream",
     "text": [
      "tensor([[4.5000, 4.5000],\n",
      "        [4.5000, 4.5000]])\n"
     ]
    }
   ],
   "source": [
    "out.backward() # backprop\n",
    "print(x.grad)"
   ]
  },
  {
   "cell_type": "code",
   "execution_count": 17,
   "metadata": {},
   "outputs": [
    {
     "name": "stdout",
     "output_type": "stream",
     "text": [
      "True\n",
      "True\n",
      "False\n"
     ]
    }
   ],
   "source": [
    "print(x.requires_grad)\n",
    "print((x ** 2).requires_grad)\n",
    "\n",
    "with torch.no_grad(): # stops tracking\n",
    "    print((x ** 2).requires_grad)"
   ]
  },
  {
   "cell_type": "code",
   "execution_count": null,
   "metadata": {},
   "outputs": [],
   "source": []
  }
 ],
 "metadata": {
  "kernelspec": {
   "display_name": "Python 3",
   "language": "python",
   "name": "python3"
  },
  "language_info": {
   "codemirror_mode": {
    "name": "ipython",
    "version": 3
   },
   "file_extension": ".py",
   "mimetype": "text/x-python",
   "name": "python",
   "nbconvert_exporter": "python",
   "pygments_lexer": "ipython3",
   "version": "3.7.5"
  }
 },
 "nbformat": 4,
 "nbformat_minor": 2
}
